{
 "cells": [
  {
   "cell_type": "code",
   "execution_count": 1,
   "metadata": {},
   "outputs": [
    {
     "name": "stdout",
     "output_type": "stream",
     "text": [
      "ሴ\n"
     ]
    }
   ],
   "source": [
    "import random\n",
    "print('\\u1234')"
   ]
  },
  {
   "cell_type": "code",
   "execution_count": 2,
   "metadata": {},
   "outputs": [
    {
     "name": "stdout",
     "output_type": "stream",
     "text": [
      "♤ ♡ ♧ ♢\n"
     ]
    }
   ],
   "source": [
    "print('\\u2664 \\u2661 \\u2667 \\u2662' )"
   ]
  },
  {
   "cell_type": "code",
   "execution_count": 3,
   "metadata": {},
   "outputs": [],
   "source": [
    "values = ['A', '2', '3', '4', '5', '6', '7', '8', '9', '10', 'J', 'Q', 'K']\n",
    "suites = ['\\u2664', '\\u2661', '\\u2667', '\\u2662']\n",
    "cards = []\n",
    "for v in values:\n",
    "    for s in suites:\n",
    "        cards.append(v+s)"
   ]
  },
  {
   "cell_type": "code",
   "execution_count": 4,
   "metadata": {},
   "outputs": [
    {
     "name": "stdout",
     "output_type": "stream",
     "text": [
      "['A♤', 'A♡', 'A♧', 'A♢', '2♤', '2♡', '2♧', '2♢', '3♤', '3♡', '3♧', '3♢', '4♤', '4♡', '4♧', '4♢', '5♤', '5♡', '5♧', '5♢', '6♤', '6♡', '6♧', '6♢', '7♤', '7♡', '7♧', '7♢', '8♤', '8♡', '8♧', '8♢', '9♤', '9♡', '9♧', '9♢', '10♤', '10♡', '10♧', '10♢', 'J♤', 'J♡', 'J♧', 'J♢', 'Q♤', 'Q♡', 'Q♧', 'Q♢', 'K♤', 'K♡', 'K♧', 'K♢']\n"
     ]
    }
   ],
   "source": [
    "print(cards)"
   ]
  },
  {
   "cell_type": "code",
   "execution_count": 5,
   "metadata": {},
   "outputs": [
    {
     "name": "stdout",
     "output_type": "stream",
     "text": [
      "Valid number\n"
     ]
    }
   ],
   "source": [
    "rows = int(input('Enter row: '))\n",
    "columns =int(input('Enter column: '))\n",
    "result = rows * columns\n",
    "if result % 2 == 0:\n",
    "    print('Valid number')\n",
    "else:\n",
    "    print('Invalid number')\n",
    "    \n",
    "    "
   ]
  },
  {
   "cell_type": "code",
   "execution_count": 6,
   "metadata": {},
   "outputs": [
    {
     "name": "stdout",
     "output_type": "stream",
     "text": [
      "4\n"
     ]
    }
   ],
   "source": [
    "number_of_cards = result // 2\n",
    "print(number_of_cards)"
   ]
  },
  {
   "cell_type": "code",
   "execution_count": 7,
   "metadata": {},
   "outputs": [],
   "source": [
    "s_cards = random.sample(cards,number_of_cards) * 2"
   ]
  },
  {
   "cell_type": "code",
   "execution_count": 8,
   "metadata": {},
   "outputs": [
    {
     "name": "stdout",
     "output_type": "stream",
     "text": [
      "['J♤', '10♡', '10♡', 'J♤', 'Q♤', '9♤', 'Q♤', '9♤']\n"
     ]
    }
   ],
   "source": [
    "random.shuffle(s_cards)\n",
    "print(s_cards)"
   ]
  },
  {
   "cell_type": "code",
   "execution_count": 9,
   "metadata": {},
   "outputs": [],
   "source": [
    "board = [[s_cards[i+(j*columns)] for i in range(columns)]for j in range(rows)]"
   ]
  },
  {
   "cell_type": "code",
   "execution_count": 10,
   "metadata": {},
   "outputs": [
    {
     "name": "stdout",
     "output_type": "stream",
     "text": [
      "[['J♤', '10♡', '10♡', 'J♤'], ['Q♤', '9♤', 'Q♤', '9♤']]\n"
     ]
    }
   ],
   "source": [
    "print(board)"
   ]
  },
  {
   "cell_type": "code",
   "execution_count": 11,
   "metadata": {},
   "outputs": [
    {
     "name": "stdout",
     "output_type": "stream",
     "text": [
      "| J♤ | 10♡| 10♡| J♤ |\n",
      "| Q♤ | 9♤ | Q♤ | 9♤ |\n"
     ]
    }
   ],
   "source": [
    "temp = board[:]#create copy of the board \n",
    "for i in range(len(temp)):\n",
    "    for j in range(len(temp[0])):\n",
    "        if len(temp[i][j]) == 3:\n",
    "            temp[i][j] = ' ' + temp[i][j]\n",
    "        elif len(temp[i][j]) == 2:\n",
    "            temp[i][j] = ' ' + temp[i][j] + ' '\n",
    "\n",
    "    \n",
    "for i in temp:\n",
    "    \n",
    "    print('',*i, sep='|', end='|\\n')"
   ]
  },
  {
   "cell_type": "code",
   "execution_count": 12,
   "metadata": {},
   "outputs": [
    {
     "name": "stdout",
     "output_type": "stream",
     "text": [
      "[['--', '--', '--', '--'], ['--', '--', '--', '--']]\n"
     ]
    }
   ],
   "source": [
    "f_cards = ['--']*(rows * columns)\n",
    "f_board = [[f_cards[i+(j*columns)] for i in range(columns)]for j in range(rows)]\n",
    "print(f_board)\n"
   ]
  },
  {
   "cell_type": "code",
   "execution_count": 13,
   "metadata": {},
   "outputs": [
    {
     "name": "stdout",
     "output_type": "stream",
     "text": [
      "[1, 2, 3, 99]\n"
     ]
    }
   ],
   "source": [
    "a = [1,2,3]\n",
    "b = a\n",
    "b.append(99)\n",
    "print(a)"
   ]
  },
  {
   "cell_type": "code",
   "execution_count": 14,
   "metadata": {},
   "outputs": [
    {
     "name": "stdout",
     "output_type": "stream",
     "text": [
      "10\n"
     ]
    }
   ],
   "source": [
    "a = 10\n",
    "b = a\n",
    "b = b + 1\n",
    "print(a)"
   ]
  },
  {
   "cell_type": "code",
   "execution_count": 15,
   "metadata": {},
   "outputs": [],
   "source": [
    "def deck():\n",
    "    values = ['A', '2', '3', '4', '5', '6', '7', '8', '9', '10', 'J', 'Q', 'K']\n",
    "    suites = ['\\u2664', '\\u2661', '\\u2667', '\\u2662']\n",
    "    cards = []\n",
    "    for v in values:\n",
    "        for s in suites:\n",
    "            cards.append(v+s)\n",
    "    return cards"
   ]
  },
  {
   "cell_type": "code",
   "execution_count": 16,
   "metadata": {},
   "outputs": [],
   "source": [
    "def create_board():\n",
    "    rows = int(input('Enter row: '))\n",
    "    columns =int(input('Enter column: '))\n",
    "    result = rows * columns\n",
    "    if result % 2 == 0:\n",
    "        print('Valid number')\n",
    "    else:\n",
    "        print('Invalid number')\n",
    "    number_of_cards = result // 2\n",
    "    \n",
    "    s_cards = random.sample(cards,number_of_cards) * 2\n",
    "    random.shuffle(s_cards)\n",
    "    \n",
    "    board = [[s_cards[i+(j*columns)] for i in range(columns)]for j in range(rows)]\n",
    "    f_cards = ['--']*(rows * columns)\n",
    "    f_board = [[f_cards[i+(j*columns)] for i in range(columns)]for j in range(rows)]\n",
    "    return board, f_board\n",
    "    "
   ]
  },
  {
   "cell_type": "code",
   "execution_count": 32,
   "metadata": {},
   "outputs": [],
   "source": [
    "def display_board(board):\n",
    "    temp = board[:]#create copy of the board \n",
    "    for i in range(len(temp)):\n",
    "        for j in range(len(temp[0])):\n",
    "            if len(temp[i][j]) == 3:\n",
    "                temp[i][j] = ' ' + temp[i][j]\n",
    "            elif len(temp[i][j]) == 2:\n",
    "                temp[i][j] = ' ' + temp[i][j] + ' '\n",
    "\n",
    "    \n",
    "    for i in temp:\n",
    "        print(*i,sep='|')\n",
    "    "
   ]
  },
  {
   "cell_type": "code",
   "execution_count": 18,
   "metadata": {},
   "outputs": [
    {
     "data": {
      "text/plain": [
       "['A♤',\n",
       " 'A♡',\n",
       " 'A♧',\n",
       " 'A♢',\n",
       " '2♤',\n",
       " '2♡',\n",
       " '2♧',\n",
       " '2♢',\n",
       " '3♤',\n",
       " '3♡',\n",
       " '3♧',\n",
       " '3♢',\n",
       " '4♤',\n",
       " '4♡',\n",
       " '4♧',\n",
       " '4♢',\n",
       " '5♤',\n",
       " '5♡',\n",
       " '5♧',\n",
       " '5♢',\n",
       " '6♤',\n",
       " '6♡',\n",
       " '6♧',\n",
       " '6♢',\n",
       " '7♤',\n",
       " '7♡',\n",
       " '7♧',\n",
       " '7♢',\n",
       " '8♤',\n",
       " '8♡',\n",
       " '8♧',\n",
       " '8♢',\n",
       " '9♤',\n",
       " '9♡',\n",
       " '9♧',\n",
       " '9♢',\n",
       " '10♤',\n",
       " '10♡',\n",
       " '10♧',\n",
       " '10♢',\n",
       " 'J♤',\n",
       " 'J♡',\n",
       " 'J♧',\n",
       " 'J♢',\n",
       " 'Q♤',\n",
       " 'Q♡',\n",
       " 'Q♧',\n",
       " 'Q♢',\n",
       " 'K♤',\n",
       " 'K♡',\n",
       " 'K♧',\n",
       " 'K♢']"
      ]
     },
     "execution_count": 18,
     "metadata": {},
     "output_type": "execute_result"
    }
   ],
   "source": [
    "deck()"
   ]
  },
  {
   "cell_type": "code",
   "execution_count": 34,
   "metadata": {},
   "outputs": [
    {
     "name": "stdout",
     "output_type": "stream",
     "text": [
      "Valid number\n"
     ]
    }
   ],
   "source": [
    "board, f_board = create_board()"
   ]
  },
  {
   "cell_type": "code",
   "execution_count": 35,
   "metadata": {},
   "outputs": [],
   "source": [
    "r1 = 1\n",
    "c1 = 3\n",
    "f_board[r1-1][c1-1] = board[r1-1][c1-1] "
   ]
  },
  {
   "cell_type": "code",
   "execution_count": 40,
   "metadata": {},
   "outputs": [
    {
     "name": "stdout",
     "output_type": "stream",
     "text": [
      " -- | -- | 5♤ | -- \n",
      " -- | -- | -- | -- \n"
     ]
    }
   ],
   "source": [
    "display_board(f_board)"
   ]
  },
  {
   "cell_type": "code",
   "execution_count": 43,
   "metadata": {},
   "outputs": [],
   "source": [
    "def game_over(board):\n",
    "    for i in board:\n",
    "        if ' -- ' in i:\n",
    "            return False\n",
    "    return True"
   ]
  },
  {
   "cell_type": "code",
   "execution_count": 54,
   "metadata": {},
   "outputs": [],
   "source": [
    "def main():\n",
    "    cards = deck()\n",
    "    board, f_board = create_board()\n",
    "    while True:\n",
    "        display_board(f_board)\n",
    "        print('-' * 50)\n",
    "        r1 = int(input('Enter row number of the 1st card: '))\n",
    "        c1 = int(input('Enter column number of the 1st card: '))\n",
    "        f_board[r1 - 1][c1 - 1] = board[r1 - 1][c1 - 1]\n",
    "        display_board(f_board)\n",
    "        print('-' * 50)\n",
    "        r2 = int(input('Enter row number of the 2nd card: '))\n",
    "        c2 = int(input('Enter column number of the 2nd card: '))\n",
    "        f_board[r2 - 1][c2 - 1] = board[r2 - 1][c2 - 1]\n",
    "        display_board(f_board)\n",
    "        print('-' * 50)\n",
    "        if f_board[r1 - 1][c1 - 1] == f_board[r2 - 1][c2 - 1]:\n",
    "            f_board[r1 - 1][c1 - 1] = \"    \"\n",
    "            f_board[r2 - 1][c2 - 1] = \"    \"\n",
    "            print('We have a match!')\n",
    "        else:\n",
    "            f_board[r1 - 1][c1 - 1] = \" -- \"\n",
    "            f_board[r2 - 1][c2 - 1] = \" -- \"\n",
    "            print('Cards dont match')\n",
    "\n",
    "        if game_over(f_board):\n",
    "            print('Game over!')\n",
    "            break\n",
    "\n",
    "        \n",
    "            \n"
   ]
  },
  {
   "cell_type": "code",
   "execution_count": 57,
   "metadata": {},
   "outputs": [
    {
     "name": "stdout",
     "output_type": "stream",
     "text": [
      "Valid number\n",
      " -- | -- | -- | -- \n",
      " -- | -- | -- | -- \n",
      "--------------------------------------------------\n",
      " 3♤ | -- | -- | -- \n",
      " -- | -- | -- | -- \n",
      "--------------------------------------------------\n",
      " 3♤ | J♡ | -- | -- \n",
      " -- | -- | -- | -- \n",
      "--------------------------------------------------\n",
      "Cards dont match\n",
      " -- | -- | -- | -- \n",
      " -- | -- | -- | -- \n",
      "--------------------------------------------------\n"
     ]
    },
    {
     "ename": "ValueError",
     "evalue": "invalid literal for int() with base 10: 'x'",
     "output_type": "error",
     "traceback": [
      "\u001b[1;31m---------------------------------------------------------------------------\u001b[0m",
      "\u001b[1;31mValueError\u001b[0m                                Traceback (most recent call last)",
      "\u001b[1;32mc:\\Users\\vanja\\Desktop\\game project\\memory.ipynb Cell 24\u001b[0m in \u001b[0;36m<cell line: 1>\u001b[1;34m()\u001b[0m\n\u001b[1;32m----> <a href='vscode-notebook-cell:/c%3A/Users/vanja/Desktop/game%20project/memory.ipynb#X34sZmlsZQ%3D%3D?line=0'>1</a>\u001b[0m main()\n",
      "\u001b[1;32mc:\\Users\\vanja\\Desktop\\game project\\memory.ipynb Cell 24\u001b[0m in \u001b[0;36mmain\u001b[1;34m()\u001b[0m\n\u001b[0;32m      <a href='vscode-notebook-cell:/c%3A/Users/vanja/Desktop/game%20project/memory.ipynb#X34sZmlsZQ%3D%3D?line=4'>5</a>\u001b[0m display_board(f_board)\n\u001b[0;32m      <a href='vscode-notebook-cell:/c%3A/Users/vanja/Desktop/game%20project/memory.ipynb#X34sZmlsZQ%3D%3D?line=5'>6</a>\u001b[0m \u001b[39mprint\u001b[39m(\u001b[39m'\u001b[39m\u001b[39m-\u001b[39m\u001b[39m'\u001b[39m \u001b[39m*\u001b[39m \u001b[39m50\u001b[39m)\n\u001b[1;32m----> <a href='vscode-notebook-cell:/c%3A/Users/vanja/Desktop/game%20project/memory.ipynb#X34sZmlsZQ%3D%3D?line=6'>7</a>\u001b[0m r1 \u001b[39m=\u001b[39m \u001b[39mint\u001b[39;49m(\u001b[39minput\u001b[39;49m(\u001b[39m'\u001b[39;49m\u001b[39mEnter row number of the 1st card: \u001b[39;49m\u001b[39m'\u001b[39;49m))\n\u001b[0;32m      <a href='vscode-notebook-cell:/c%3A/Users/vanja/Desktop/game%20project/memory.ipynb#X34sZmlsZQ%3D%3D?line=7'>8</a>\u001b[0m c1 \u001b[39m=\u001b[39m \u001b[39mint\u001b[39m(\u001b[39minput\u001b[39m(\u001b[39m'\u001b[39m\u001b[39mEnter column number of the 1st card: \u001b[39m\u001b[39m'\u001b[39m))\n\u001b[0;32m      <a href='vscode-notebook-cell:/c%3A/Users/vanja/Desktop/game%20project/memory.ipynb#X34sZmlsZQ%3D%3D?line=8'>9</a>\u001b[0m f_board[r1 \u001b[39m-\u001b[39m \u001b[39m1\u001b[39m][c1 \u001b[39m-\u001b[39m \u001b[39m1\u001b[39m] \u001b[39m=\u001b[39m board[r1 \u001b[39m-\u001b[39m \u001b[39m1\u001b[39m][c1 \u001b[39m-\u001b[39m \u001b[39m1\u001b[39m]\n",
      "\u001b[1;31mValueError\u001b[0m: invalid literal for int() with base 10: 'x'"
     ]
    }
   ],
   "source": [
    "main()"
   ]
  },
  {
   "cell_type": "code",
   "execution_count": null,
   "metadata": {},
   "outputs": [],
   "source": []
  }
 ],
 "metadata": {
  "kernelspec": {
   "display_name": "Python 3.10.5 64-bit",
   "language": "python",
   "name": "python3"
  },
  "language_info": {
   "codemirror_mode": {
    "name": "ipython",
    "version": 3
   },
   "file_extension": ".py",
   "mimetype": "text/x-python",
   "name": "python",
   "nbconvert_exporter": "python",
   "pygments_lexer": "ipython3",
   "version": "3.10.7"
  },
  "orig_nbformat": 4,
  "vscode": {
   "interpreter": {
    "hash": "1735705d6b757235dd0f6c1b48c48cccc2242baf978cb745c191b20bf32c1525"
   }
  }
 },
 "nbformat": 4,
 "nbformat_minor": 2
}
